{
 "cells": [
  {
   "cell_type": "markdown",
   "metadata": {
    "id": "SXQnaKqi_pen"
   },
   "source": [
    "**Libraries**"
   ]
  },
  {
   "cell_type": "code",
   "execution_count": 2,
   "metadata": {
    "id": "cXyL1VRL0F9I"
   },
   "outputs": [],
   "source": [
    "import pandas as pd\n",
    "import seaborn as sns\n",
    "import matplotlib.pyplot as plt"
   ]
  },
  {
   "cell_type": "code",
   "execution_count": 3,
   "metadata": {},
   "outputs": [
    {
     "data": {
      "text/html": [
       "<div>\n",
       "<style scoped>\n",
       "    .dataframe tbody tr th:only-of-type {\n",
       "        vertical-align: middle;\n",
       "    }\n",
       "\n",
       "    .dataframe tbody tr th {\n",
       "        vertical-align: top;\n",
       "    }\n",
       "\n",
       "    .dataframe thead th {\n",
       "        text-align: right;\n",
       "    }\n",
       "</style>\n",
       "<table border=\"1\" class=\"dataframe\">\n",
       "  <thead>\n",
       "    <tr style=\"text-align: right;\">\n",
       "      <th></th>\n",
       "      <th>Product ID</th>\n",
       "      <th>Product Name</th>\n",
       "      <th>Category</th>\n",
       "      <th>Price</th>\n",
       "      <th>Discount</th>\n",
       "      <th>Tax Rate</th>\n",
       "      <th>Stock Level</th>\n",
       "      <th>Supplier ID</th>\n",
       "      <th>Customer Age Group</th>\n",
       "      <th>Customer Location</th>\n",
       "      <th>Customer Gender</th>\n",
       "      <th>Shipping Cost</th>\n",
       "      <th>Shipping Method</th>\n",
       "      <th>Return Rate</th>\n",
       "      <th>Seasonality</th>\n",
       "      <th>Popularity Index</th>\n",
       "    </tr>\n",
       "  </thead>\n",
       "  <tbody>\n",
       "    <tr>\n",
       "      <th>0</th>\n",
       "      <td>P6879</td>\n",
       "      <td>Jacket</td>\n",
       "      <td>Apparel</td>\n",
       "      <td>53.85</td>\n",
       "      <td>5</td>\n",
       "      <td>15</td>\n",
       "      <td>150</td>\n",
       "      <td>S535</td>\n",
       "      <td>35-44</td>\n",
       "      <td>New York, USA</td>\n",
       "      <td>Male</td>\n",
       "      <td>23.32</td>\n",
       "      <td>Standard</td>\n",
       "      <td>4.49</td>\n",
       "      <td>Yes</td>\n",
       "      <td>56</td>\n",
       "    </tr>\n",
       "    <tr>\n",
       "      <th>1</th>\n",
       "      <td>P5132</td>\n",
       "      <td>Camera</td>\n",
       "      <td>Electronics</td>\n",
       "      <td>761.26</td>\n",
       "      <td>10</td>\n",
       "      <td>15</td>\n",
       "      <td>224</td>\n",
       "      <td>S583</td>\n",
       "      <td>25-34</td>\n",
       "      <td>London, UK</td>\n",
       "      <td>Female</td>\n",
       "      <td>20.88</td>\n",
       "      <td>Overnight</td>\n",
       "      <td>16.11</td>\n",
       "      <td>No</td>\n",
       "      <td>79</td>\n",
       "    </tr>\n",
       "    <tr>\n",
       "      <th>2</th>\n",
       "      <td>P2941</td>\n",
       "      <td>Sneakers</td>\n",
       "      <td>Footwear</td>\n",
       "      <td>1756.76</td>\n",
       "      <td>5</td>\n",
       "      <td>8</td>\n",
       "      <td>468</td>\n",
       "      <td>S118</td>\n",
       "      <td>25-34</td>\n",
       "      <td>Tokyo, Japan</td>\n",
       "      <td>Non-Binary</td>\n",
       "      <td>16.43</td>\n",
       "      <td>Standard</td>\n",
       "      <td>4.93</td>\n",
       "      <td>No</td>\n",
       "      <td>40</td>\n",
       "    </tr>\n",
       "    <tr>\n",
       "      <th>3</th>\n",
       "      <td>P8545</td>\n",
       "      <td>Cookbooks</td>\n",
       "      <td>Books</td>\n",
       "      <td>295.24</td>\n",
       "      <td>10</td>\n",
       "      <td>15</td>\n",
       "      <td>25</td>\n",
       "      <td>S104</td>\n",
       "      <td>18-24</td>\n",
       "      <td>Paris, France</td>\n",
       "      <td>Female</td>\n",
       "      <td>27.49</td>\n",
       "      <td>Standard</td>\n",
       "      <td>1.31</td>\n",
       "      <td>No</td>\n",
       "      <td>93</td>\n",
       "    </tr>\n",
       "    <tr>\n",
       "      <th>4</th>\n",
       "      <td>P4594</td>\n",
       "      <td>Camera</td>\n",
       "      <td>Electronics</td>\n",
       "      <td>832.00</td>\n",
       "      <td>10</td>\n",
       "      <td>12</td>\n",
       "      <td>340</td>\n",
       "      <td>S331</td>\n",
       "      <td>55+</td>\n",
       "      <td>Tokyo, Japan</td>\n",
       "      <td>Male</td>\n",
       "      <td>45.93</td>\n",
       "      <td>Overnight</td>\n",
       "      <td>4.37</td>\n",
       "      <td>No</td>\n",
       "      <td>56</td>\n",
       "    </tr>\n",
       "    <tr>\n",
       "      <th>...</th>\n",
       "      <td>...</td>\n",
       "      <td>...</td>\n",
       "      <td>...</td>\n",
       "      <td>...</td>\n",
       "      <td>...</td>\n",
       "      <td>...</td>\n",
       "      <td>...</td>\n",
       "      <td>...</td>\n",
       "      <td>...</td>\n",
       "      <td>...</td>\n",
       "      <td>...</td>\n",
       "      <td>...</td>\n",
       "      <td>...</td>\n",
       "      <td>...</td>\n",
       "      <td>...</td>\n",
       "      <td>...</td>\n",
       "    </tr>\n",
       "    <tr>\n",
       "      <th>999995</th>\n",
       "      <td>P1024</td>\n",
       "      <td>Graphic Novels</td>\n",
       "      <td>Books</td>\n",
       "      <td>1802.12</td>\n",
       "      <td>5</td>\n",
       "      <td>10</td>\n",
       "      <td>340</td>\n",
       "      <td>S865</td>\n",
       "      <td>55+</td>\n",
       "      <td>Sydney, Australia</td>\n",
       "      <td>Non-Binary</td>\n",
       "      <td>6.21</td>\n",
       "      <td>Express</td>\n",
       "      <td>10.87</td>\n",
       "      <td>No</td>\n",
       "      <td>21</td>\n",
       "    </tr>\n",
       "    <tr>\n",
       "      <th>999996</th>\n",
       "      <td>P2259</td>\n",
       "      <td>Biographies</td>\n",
       "      <td>Books</td>\n",
       "      <td>1843.11</td>\n",
       "      <td>10</td>\n",
       "      <td>15</td>\n",
       "      <td>189</td>\n",
       "      <td>S176</td>\n",
       "      <td>45-54</td>\n",
       "      <td>Paris, France</td>\n",
       "      <td>Non-Binary</td>\n",
       "      <td>9.02</td>\n",
       "      <td>Overnight</td>\n",
       "      <td>19.19</td>\n",
       "      <td>No</td>\n",
       "      <td>59</td>\n",
       "    </tr>\n",
       "    <tr>\n",
       "      <th>999997</th>\n",
       "      <td>P1110</td>\n",
       "      <td>Formal Shoes</td>\n",
       "      <td>Footwear</td>\n",
       "      <td>1186.56</td>\n",
       "      <td>25</td>\n",
       "      <td>15</td>\n",
       "      <td>482</td>\n",
       "      <td>S530</td>\n",
       "      <td>18-24</td>\n",
       "      <td>Berlin, Germany</td>\n",
       "      <td>Male</td>\n",
       "      <td>42.85</td>\n",
       "      <td>Express</td>\n",
       "      <td>8.77</td>\n",
       "      <td>Yes</td>\n",
       "      <td>12</td>\n",
       "    </tr>\n",
       "    <tr>\n",
       "      <th>999998</th>\n",
       "      <td>P5954</td>\n",
       "      <td>Jeans</td>\n",
       "      <td>Apparel</td>\n",
       "      <td>803.06</td>\n",
       "      <td>25</td>\n",
       "      <td>10</td>\n",
       "      <td>145</td>\n",
       "      <td>S818</td>\n",
       "      <td>55+</td>\n",
       "      <td>Dubai, UAE</td>\n",
       "      <td>Non-Binary</td>\n",
       "      <td>22.54</td>\n",
       "      <td>Standard</td>\n",
       "      <td>11.27</td>\n",
       "      <td>Yes</td>\n",
       "      <td>44</td>\n",
       "    </tr>\n",
       "    <tr>\n",
       "      <th>999999</th>\n",
       "      <td>P5027</td>\n",
       "      <td>Flats</td>\n",
       "      <td>Footwear</td>\n",
       "      <td>1846.41</td>\n",
       "      <td>10</td>\n",
       "      <td>8</td>\n",
       "      <td>322</td>\n",
       "      <td>S215</td>\n",
       "      <td>35-44</td>\n",
       "      <td>Houston, USA</td>\n",
       "      <td>Male</td>\n",
       "      <td>28.58</td>\n",
       "      <td>Express</td>\n",
       "      <td>16.20</td>\n",
       "      <td>No</td>\n",
       "      <td>55</td>\n",
       "    </tr>\n",
       "  </tbody>\n",
       "</table>\n",
       "<p>1000000 rows × 16 columns</p>\n",
       "</div>"
      ],
      "text/plain": [
       "       Product ID    Product Name     Category    Price  Discount  Tax Rate  \\\n",
       "0           P6879          Jacket      Apparel    53.85         5        15   \n",
       "1           P5132          Camera  Electronics   761.26        10        15   \n",
       "2           P2941        Sneakers     Footwear  1756.76         5         8   \n",
       "3           P8545       Cookbooks        Books   295.24        10        15   \n",
       "4           P4594          Camera  Electronics   832.00        10        12   \n",
       "...           ...             ...          ...      ...       ...       ...   \n",
       "999995      P1024  Graphic Novels        Books  1802.12         5        10   \n",
       "999996      P2259     Biographies        Books  1843.11        10        15   \n",
       "999997      P1110    Formal Shoes     Footwear  1186.56        25        15   \n",
       "999998      P5954           Jeans      Apparel   803.06        25        10   \n",
       "999999      P5027           Flats     Footwear  1846.41        10         8   \n",
       "\n",
       "        Stock Level Supplier ID Customer Age Group  Customer Location  \\\n",
       "0               150        S535              35-44      New York, USA   \n",
       "1               224        S583              25-34         London, UK   \n",
       "2               468        S118              25-34       Tokyo, Japan   \n",
       "3                25        S104              18-24      Paris, France   \n",
       "4               340        S331                55+       Tokyo, Japan   \n",
       "...             ...         ...                ...                ...   \n",
       "999995          340        S865                55+  Sydney, Australia   \n",
       "999996          189        S176              45-54      Paris, France   \n",
       "999997          482        S530              18-24    Berlin, Germany   \n",
       "999998          145        S818                55+         Dubai, UAE   \n",
       "999999          322        S215              35-44       Houston, USA   \n",
       "\n",
       "       Customer Gender  Shipping Cost Shipping Method  Return Rate  \\\n",
       "0                 Male          23.32        Standard         4.49   \n",
       "1               Female          20.88       Overnight        16.11   \n",
       "2           Non-Binary          16.43        Standard         4.93   \n",
       "3               Female          27.49        Standard         1.31   \n",
       "4                 Male          45.93       Overnight         4.37   \n",
       "...                ...            ...             ...          ...   \n",
       "999995      Non-Binary           6.21         Express        10.87   \n",
       "999996      Non-Binary           9.02       Overnight        19.19   \n",
       "999997            Male          42.85         Express         8.77   \n",
       "999998      Non-Binary          22.54        Standard        11.27   \n",
       "999999            Male          28.58         Express        16.20   \n",
       "\n",
       "       Seasonality  Popularity Index  \n",
       "0              Yes                56  \n",
       "1               No                79  \n",
       "2               No                40  \n",
       "3               No                93  \n",
       "4               No                56  \n",
       "...            ...               ...  \n",
       "999995          No                21  \n",
       "999996          No                59  \n",
       "999997         Yes                12  \n",
       "999998         Yes                44  \n",
       "999999          No                55  \n",
       "\n",
       "[1000000 rows x 16 columns]"
      ]
     },
     "execution_count": 3,
     "metadata": {},
     "output_type": "execute_result"
    }
   ],
   "source": [
    "ecommerce_df=pd.read_csv('ecommerce.csv')\n",
    "ecommerce_df"
   ]
  },
  {
   "cell_type": "markdown",
   "metadata": {
    "id": "qYxYBPK78K2Y"
   },
   "source": [
    "**Data exploration and cleaning**"
   ]
  },
  {
   "cell_type": "code",
   "execution_count": 5,
   "metadata": {
    "colab": {
     "base_uri": "https://localhost:8080/",
     "height": 345
    },
    "id": "4HH_F92Y_xW-",
    "outputId": "d42f9522-c3ee-49ca-c2b4-b9be7ee98107"
   },
   "outputs": [
    {
     "data": {
      "text/html": [
       "<div>\n",
       "<style scoped>\n",
       "    .dataframe tbody tr th:only-of-type {\n",
       "        vertical-align: middle;\n",
       "    }\n",
       "\n",
       "    .dataframe tbody tr th {\n",
       "        vertical-align: top;\n",
       "    }\n",
       "\n",
       "    .dataframe thead th {\n",
       "        text-align: right;\n",
       "    }\n",
       "</style>\n",
       "<table border=\"1\" class=\"dataframe\">\n",
       "  <thead>\n",
       "    <tr style=\"text-align: right;\">\n",
       "      <th></th>\n",
       "      <th>Product ID</th>\n",
       "      <th>Product Name</th>\n",
       "      <th>Category</th>\n",
       "      <th>Price</th>\n",
       "      <th>Discount</th>\n",
       "      <th>Tax Rate</th>\n",
       "      <th>Stock Level</th>\n",
       "      <th>Supplier ID</th>\n",
       "      <th>Customer Age Group</th>\n",
       "      <th>Customer Location</th>\n",
       "      <th>Customer Gender</th>\n",
       "      <th>Shipping Cost</th>\n",
       "      <th>Shipping Method</th>\n",
       "      <th>Return Rate</th>\n",
       "      <th>Seasonality</th>\n",
       "      <th>Popularity Index</th>\n",
       "    </tr>\n",
       "  </thead>\n",
       "  <tbody>\n",
       "    <tr>\n",
       "      <th>0</th>\n",
       "      <td>P6879</td>\n",
       "      <td>Jacket</td>\n",
       "      <td>Apparel</td>\n",
       "      <td>53.85</td>\n",
       "      <td>5</td>\n",
       "      <td>15</td>\n",
       "      <td>150</td>\n",
       "      <td>S535</td>\n",
       "      <td>35-44</td>\n",
       "      <td>New York, USA</td>\n",
       "      <td>Male</td>\n",
       "      <td>23.32</td>\n",
       "      <td>Standard</td>\n",
       "      <td>4.49</td>\n",
       "      <td>Yes</td>\n",
       "      <td>56</td>\n",
       "    </tr>\n",
       "    <tr>\n",
       "      <th>1</th>\n",
       "      <td>P5132</td>\n",
       "      <td>Camera</td>\n",
       "      <td>Electronics</td>\n",
       "      <td>761.26</td>\n",
       "      <td>10</td>\n",
       "      <td>15</td>\n",
       "      <td>224</td>\n",
       "      <td>S583</td>\n",
       "      <td>25-34</td>\n",
       "      <td>London, UK</td>\n",
       "      <td>Female</td>\n",
       "      <td>20.88</td>\n",
       "      <td>Overnight</td>\n",
       "      <td>16.11</td>\n",
       "      <td>No</td>\n",
       "      <td>79</td>\n",
       "    </tr>\n",
       "    <tr>\n",
       "      <th>2</th>\n",
       "      <td>P2941</td>\n",
       "      <td>Sneakers</td>\n",
       "      <td>Footwear</td>\n",
       "      <td>1756.76</td>\n",
       "      <td>5</td>\n",
       "      <td>8</td>\n",
       "      <td>468</td>\n",
       "      <td>S118</td>\n",
       "      <td>25-34</td>\n",
       "      <td>Tokyo, Japan</td>\n",
       "      <td>Non-Binary</td>\n",
       "      <td>16.43</td>\n",
       "      <td>Standard</td>\n",
       "      <td>4.93</td>\n",
       "      <td>No</td>\n",
       "      <td>40</td>\n",
       "    </tr>\n",
       "    <tr>\n",
       "      <th>3</th>\n",
       "      <td>P8545</td>\n",
       "      <td>Cookbooks</td>\n",
       "      <td>Books</td>\n",
       "      <td>295.24</td>\n",
       "      <td>10</td>\n",
       "      <td>15</td>\n",
       "      <td>25</td>\n",
       "      <td>S104</td>\n",
       "      <td>18-24</td>\n",
       "      <td>Paris, France</td>\n",
       "      <td>Female</td>\n",
       "      <td>27.49</td>\n",
       "      <td>Standard</td>\n",
       "      <td>1.31</td>\n",
       "      <td>No</td>\n",
       "      <td>93</td>\n",
       "    </tr>\n",
       "    <tr>\n",
       "      <th>4</th>\n",
       "      <td>P4594</td>\n",
       "      <td>Camera</td>\n",
       "      <td>Electronics</td>\n",
       "      <td>832.00</td>\n",
       "      <td>10</td>\n",
       "      <td>12</td>\n",
       "      <td>340</td>\n",
       "      <td>S331</td>\n",
       "      <td>55+</td>\n",
       "      <td>Tokyo, Japan</td>\n",
       "      <td>Male</td>\n",
       "      <td>45.93</td>\n",
       "      <td>Overnight</td>\n",
       "      <td>4.37</td>\n",
       "      <td>No</td>\n",
       "      <td>56</td>\n",
       "    </tr>\n",
       "  </tbody>\n",
       "</table>\n",
       "</div>"
      ],
      "text/plain": [
       "  Product ID Product Name     Category    Price  Discount  Tax Rate  \\\n",
       "0      P6879       Jacket      Apparel    53.85         5        15   \n",
       "1      P5132       Camera  Electronics   761.26        10        15   \n",
       "2      P2941     Sneakers     Footwear  1756.76         5         8   \n",
       "3      P8545    Cookbooks        Books   295.24        10        15   \n",
       "4      P4594       Camera  Electronics   832.00        10        12   \n",
       "\n",
       "   Stock Level Supplier ID Customer Age Group Customer Location  \\\n",
       "0          150        S535              35-44     New York, USA   \n",
       "1          224        S583              25-34        London, UK   \n",
       "2          468        S118              25-34      Tokyo, Japan   \n",
       "3           25        S104              18-24     Paris, France   \n",
       "4          340        S331                55+      Tokyo, Japan   \n",
       "\n",
       "  Customer Gender  Shipping Cost Shipping Method  Return Rate Seasonality  \\\n",
       "0            Male          23.32        Standard         4.49         Yes   \n",
       "1          Female          20.88       Overnight        16.11          No   \n",
       "2      Non-Binary          16.43        Standard         4.93          No   \n",
       "3          Female          27.49        Standard         1.31          No   \n",
       "4            Male          45.93       Overnight         4.37          No   \n",
       "\n",
       "   Popularity Index  \n",
       "0                56  \n",
       "1                79  \n",
       "2                40  \n",
       "3                93  \n",
       "4                56  "
      ]
     },
     "execution_count": 5,
     "metadata": {},
     "output_type": "execute_result"
    }
   ],
   "source": [
    "ecommerce_df.head()"
   ]
  },
  {
   "cell_type": "code",
   "execution_count": 6,
   "metadata": {
    "colab": {
     "base_uri": "https://localhost:8080/"
    },
    "id": "JVvmGANn_4Cf",
    "outputId": "41782282-e1ba-4d65-9350-aa58ac6efd12"
   },
   "outputs": [
    {
     "name": "stdout",
     "output_type": "stream",
     "text": [
      "<class 'pandas.core.frame.DataFrame'>\n",
      "RangeIndex: 10062 entries, 0 to 10061\n",
      "Data columns (total 16 columns):\n",
      " #   Column              Non-Null Count  Dtype  \n",
      "---  ------              --------------  -----  \n",
      " 0   Product ID          10062 non-null  object \n",
      " 1   Product Name        10062 non-null  object \n",
      " 2   Category            10062 non-null  object \n",
      " 3   Price               10061 non-null  float64\n",
      " 4   Discount            10061 non-null  float64\n",
      " 5   Tax Rate            10061 non-null  float64\n",
      " 6   Stock Level         10061 non-null  float64\n",
      " 7   Supplier ID         10061 non-null  object \n",
      " 8   Customer Age Group  10061 non-null  object \n",
      " 9   Customer Location   10061 non-null  object \n",
      " 10  Customer Gender     10061 non-null  object \n",
      " 11  Shipping Cost       10061 non-null  float64\n",
      " 12  Shipping Method     10061 non-null  object \n",
      " 13  Return Rate         10061 non-null  float64\n",
      " 14  Seasonality         10061 non-null  object \n",
      " 15  Popularity Index    10061 non-null  float64\n",
      "dtypes: float64(7), object(9)\n",
      "memory usage: 1.2+ MB\n"
     ]
    }
   ],
   "source": [
    "data.info()"
   ]
  },
  {
   "cell_type": "code",
   "execution_count": 6,
   "metadata": {
    "colab": {
     "base_uri": "https://localhost:8080/",
     "height": 300
    },
    "id": "tL8RiEpC_8_b",
    "outputId": "e62f3137-423b-4b7b-e3ea-f6f5c776da0f"
   },
   "outputs": [
    {
     "data": {
      "text/html": [
       "<div>\n",
       "<style scoped>\n",
       "    .dataframe tbody tr th:only-of-type {\n",
       "        vertical-align: middle;\n",
       "    }\n",
       "\n",
       "    .dataframe tbody tr th {\n",
       "        vertical-align: top;\n",
       "    }\n",
       "\n",
       "    .dataframe thead th {\n",
       "        text-align: right;\n",
       "    }\n",
       "</style>\n",
       "<table border=\"1\" class=\"dataframe\">\n",
       "  <thead>\n",
       "    <tr style=\"text-align: right;\">\n",
       "      <th></th>\n",
       "      <th>Price</th>\n",
       "      <th>Discount</th>\n",
       "      <th>Tax Rate</th>\n",
       "      <th>Stock Level</th>\n",
       "      <th>Shipping Cost</th>\n",
       "      <th>Return Rate</th>\n",
       "      <th>Popularity Index</th>\n",
       "    </tr>\n",
       "  </thead>\n",
       "  <tbody>\n",
       "    <tr>\n",
       "      <th>count</th>\n",
       "      <td>1000000.000000</td>\n",
       "      <td>1000000.000000</td>\n",
       "      <td>1000000.000000</td>\n",
       "      <td>1000000.000000</td>\n",
       "      <td>1000000.000000</td>\n",
       "      <td>1000000.000000</td>\n",
       "      <td>1000000.000000</td>\n",
       "    </tr>\n",
       "    <tr>\n",
       "      <th>mean</th>\n",
       "      <td>1005.120742</td>\n",
       "      <td>12.516955</td>\n",
       "      <td>10.002052</td>\n",
       "      <td>250.028536</td>\n",
       "      <td>24.985224</td>\n",
       "      <td>10.492896</td>\n",
       "      <td>49.970211</td>\n",
       "    </tr>\n",
       "    <tr>\n",
       "      <th>std</th>\n",
       "      <td>574.451223</td>\n",
       "      <td>8.539929</td>\n",
       "      <td>3.406026</td>\n",
       "      <td>144.676275</td>\n",
       "      <td>14.431730</td>\n",
       "      <td>5.484849</td>\n",
       "      <td>29.164875</td>\n",
       "    </tr>\n",
       "    <tr>\n",
       "      <th>min</th>\n",
       "      <td>10.000000</td>\n",
       "      <td>0.000000</td>\n",
       "      <td>5.000000</td>\n",
       "      <td>0.000000</td>\n",
       "      <td>0.000000</td>\n",
       "      <td>1.000000</td>\n",
       "      <td>0.000000</td>\n",
       "    </tr>\n",
       "    <tr>\n",
       "      <th>25%</th>\n",
       "      <td>507.860000</td>\n",
       "      <td>5.000000</td>\n",
       "      <td>8.000000</td>\n",
       "      <td>125.000000</td>\n",
       "      <td>12.490000</td>\n",
       "      <td>5.740000</td>\n",
       "      <td>25.000000</td>\n",
       "    </tr>\n",
       "    <tr>\n",
       "      <th>50%</th>\n",
       "      <td>1005.430000</td>\n",
       "      <td>15.000000</td>\n",
       "      <td>10.000000</td>\n",
       "      <td>250.000000</td>\n",
       "      <td>24.970000</td>\n",
       "      <td>10.480000</td>\n",
       "      <td>50.000000</td>\n",
       "    </tr>\n",
       "    <tr>\n",
       "      <th>75%</th>\n",
       "      <td>1502.310000</td>\n",
       "      <td>20.000000</td>\n",
       "      <td>12.000000</td>\n",
       "      <td>375.000000</td>\n",
       "      <td>37.470000</td>\n",
       "      <td>15.250000</td>\n",
       "      <td>75.000000</td>\n",
       "    </tr>\n",
       "    <tr>\n",
       "      <th>max</th>\n",
       "      <td>2000.000000</td>\n",
       "      <td>25.000000</td>\n",
       "      <td>15.000000</td>\n",
       "      <td>500.000000</td>\n",
       "      <td>50.000000</td>\n",
       "      <td>20.000000</td>\n",
       "      <td>100.000000</td>\n",
       "    </tr>\n",
       "  </tbody>\n",
       "</table>\n",
       "</div>"
      ],
      "text/plain": [
       "                Price        Discount        Tax Rate     Stock Level  \\\n",
       "count  1000000.000000  1000000.000000  1000000.000000  1000000.000000   \n",
       "mean      1005.120742       12.516955       10.002052      250.028536   \n",
       "std        574.451223        8.539929        3.406026      144.676275   \n",
       "min         10.000000        0.000000        5.000000        0.000000   \n",
       "25%        507.860000        5.000000        8.000000      125.000000   \n",
       "50%       1005.430000       15.000000       10.000000      250.000000   \n",
       "75%       1502.310000       20.000000       12.000000      375.000000   \n",
       "max       2000.000000       25.000000       15.000000      500.000000   \n",
       "\n",
       "        Shipping Cost     Return Rate  Popularity Index  \n",
       "count  1000000.000000  1000000.000000    1000000.000000  \n",
       "mean        24.985224       10.492896         49.970211  \n",
       "std         14.431730        5.484849         29.164875  \n",
       "min          0.000000        1.000000          0.000000  \n",
       "25%         12.490000        5.740000         25.000000  \n",
       "50%         24.970000       10.480000         50.000000  \n",
       "75%         37.470000       15.250000         75.000000  \n",
       "max         50.000000       20.000000        100.000000  "
      ]
     },
     "execution_count": 6,
     "metadata": {},
     "output_type": "execute_result"
    }
   ],
   "source": [
    "ecommerce_df.describe()"
   ]
  },
  {
   "cell_type": "code",
   "execution_count": 7,
   "metadata": {
    "colab": {
     "base_uri": "https://localhost:8080/"
    },
    "id": "YmxPp2fqAZR-",
    "outputId": "c6ee1211-bd37-4148-9340-ea93070297cb"
   },
   "outputs": [
    {
     "data": {
      "text/plain": [
       "(1000000, 16)"
      ]
     },
     "execution_count": 7,
     "metadata": {},
     "output_type": "execute_result"
    }
   ],
   "source": [
    "ecommerce_df.shape"
   ]
  },
  {
   "cell_type": "code",
   "execution_count": 8,
   "metadata": {
    "colab": {
     "base_uri": "https://localhost:8080/",
     "height": 586
    },
    "id": "mKdcHHifA_aS",
    "outputId": "51c38a02-6f23-4f9c-f241-6f5dfb2a3008"
   },
   "outputs": [
    {
     "data": {
      "text/plain": [
       "Product ID            0\n",
       "Product Name          0\n",
       "Category              0\n",
       "Price                 0\n",
       "Discount              0\n",
       "Tax Rate              0\n",
       "Stock Level           0\n",
       "Supplier ID           0\n",
       "Customer Age Group    0\n",
       "Customer Location     0\n",
       "Customer Gender       0\n",
       "Shipping Cost         0\n",
       "Shipping Method       0\n",
       "Return Rate           0\n",
       "Seasonality           0\n",
       "Popularity Index      0\n",
       "dtype: int64"
      ]
     },
     "execution_count": 8,
     "metadata": {},
     "output_type": "execute_result"
    }
   ],
   "source": [
    "ecommerce_df.isna().sum()"
   ]
  },
  {
   "cell_type": "code",
   "execution_count": 11,
   "metadata": {
    "colab": {
     "base_uri": "https://localhost:8080/",
     "height": 584
    },
    "id": "QnsgWz4VBnTd",
    "outputId": "e9baa928-f09d-46de-f6cb-0089ee8b294b"
   },
   "outputs": [
    {
     "data": {
      "image/png": "[encoded data removed]",
      "text/plain": [
       "<Figure size 640x480 with 1 Axes>"
      ]
     },
     "metadata": {},
     "output_type": "display_data"
    }
   ],
   "source": [
    "# Assuming 'data' is your pandas DataFrame\n",
    "# Let's visualize missing values using a heatmap\n",
    "sns.heatmap(ecommerce_df.isnull(), cbar=False)\n",
    "plt.title(\"Missing Values\")\n",
    "plt.show()"
   ]
  },
  {
   "cell_type": "markdown",
   "metadata": {
    "id": "uktBsdmkuOrY"
   },
   "source": [
    "** No nulls founded**"
   ]
  },
  {
   "cell_type": "code",
   "execution_count": 12,
   "metadata": {
    "colab": {
     "base_uri": "https://localhost:8080/"
    },
    "id": "SL8QO4_RurVj",
    "outputId": "65b8ec29-1dc8-4d79-a5a2-e279b9cd52de"
   },
   "outputs": [
    {
     "name": "stdout",
     "output_type": "stream",
     "text": [
      "\n",
      "Dataset after removing duplicates: (1000000, 16)\n"
     ]
    }
   ],
   "source": [
    "ecommerce_df_cleaned = ecommerce_df.drop_duplicates()\n",
    "print(f\"\\nDataset after removing duplicates: {ecommerce_df_cleaned.shape}\")"
   ]
  },
  {
   "cell_type": "code",
   "execution_count": 13,
   "metadata": {
    "colab": {
     "base_uri": "https://localhost:8080/"
    },
    "id": "W-UV29W6wa19",
    "outputId": "1ce7167b-4589-41a8-ba50-5fad6a5bab72"
   },
   "outputs": [
    {
     "data": {
      "text/plain": [
       "(1000000, 16)"
      ]
     },
     "execution_count": 13,
     "metadata": {},
     "output_type": "execute_result"
    }
   ],
   "source": [
    "ecommerce_df.shape"
   ]
  },
  {
   "cell_type": "code",
   "execution_count": 14,
   "metadata": {
    "colab": {
     "base_uri": "https://localhost:8080/"
    },
    "id": "XZT-0br7wpcO",
    "outputId": "a6cf5957-2746-48d6-f058-77984b2d9439"
   },
   "outputs": [
    {
     "data": {
      "text/plain": [
       "(1000000, 16)"
      ]
     },
     "execution_count": 14,
     "metadata": {},
     "output_type": "execute_result"
    }
   ],
   "source": [
    "ecommerce_df_cleaned.shape"
   ]
  },
  {
   "cell_type": "markdown",
   "metadata": {
    "id": "KNKihOzIwth1"
   },
   "source": [
    "**We don't have duplicates**"
   ]
  },
  {
   "cell_type": "markdown",
   "metadata": {
    "id": "i2UdCxkMyagN"
   },
   "source": [
    "**Changing some columns name**"
   ]
  },
  {
   "cell_type": "code",
   "execution_count": 15,
   "metadata": {
    "colab": {
     "base_uri": "https://localhost:8080/",
     "height": 617
    },
    "id": "MwdJjFyLyZsj",
    "outputId": "67af4b5a-a315-4097-c021-941fc02a43e1"
   },
   "outputs": [
    {
     "data": {
      "text/html": [
       "<div>\n",
       "<style scoped>\n",
       "    .dataframe tbody tr th:only-of-type {\n",
       "        vertical-align: middle;\n",
       "    }\n",
       "\n",
       "    .dataframe tbody tr th {\n",
       "        vertical-align: top;\n",
       "    }\n",
       "\n",
       "    .dataframe thead th {\n",
       "        text-align: right;\n",
       "    }\n",
       "</style>\n",
       "<table border=\"1\" class=\"dataframe\">\n",
       "  <thead>\n",
       "    <tr style=\"text-align: right;\">\n",
       "      <th></th>\n",
       "      <th>Product ID</th>\n",
       "      <th>Product Name</th>\n",
       "      <th>Category</th>\n",
       "      <th>Price</th>\n",
       "      <th>Discount</th>\n",
       "      <th>Tax Rate</th>\n",
       "      <th>Stock Level</th>\n",
       "      <th>Supplier ID</th>\n",
       "      <th>Age</th>\n",
       "      <th>City,Country</th>\n",
       "      <th>Gender</th>\n",
       "      <th>Shipping Cost</th>\n",
       "      <th>Shipping Method</th>\n",
       "      <th>Return Rate</th>\n",
       "      <th>Seasonality</th>\n",
       "      <th>Popularity Index</th>\n",
       "    </tr>\n",
       "  </thead>\n",
       "  <tbody>\n",
       "    <tr>\n",
       "      <th>0</th>\n",
       "      <td>P6879</td>\n",
       "      <td>Jacket</td>\n",
       "      <td>Apparel</td>\n",
       "      <td>53.85</td>\n",
       "      <td>5</td>\n",
       "      <td>15</td>\n",
       "      <td>150</td>\n",
       "      <td>S535</td>\n",
       "      <td>35-44</td>\n",
       "      <td>New York, USA</td>\n",
       "      <td>Male</td>\n",
       "      <td>23.32</td>\n",
       "      <td>Standard</td>\n",
       "      <td>4.49</td>\n",
       "      <td>Yes</td>\n",
       "      <td>56</td>\n",
       "    </tr>\n",
       "    <tr>\n",
       "      <th>1</th>\n",
       "      <td>P5132</td>\n",
       "      <td>Camera</td>\n",
       "      <td>Electronics</td>\n",
       "      <td>761.26</td>\n",
       "      <td>10</td>\n",
       "      <td>15</td>\n",
       "      <td>224</td>\n",
       "      <td>S583</td>\n",
       "      <td>25-34</td>\n",
       "      <td>London, UK</td>\n",
       "      <td>Female</td>\n",
       "      <td>20.88</td>\n",
       "      <td>Overnight</td>\n",
       "      <td>16.11</td>\n",
       "      <td>No</td>\n",
       "      <td>79</td>\n",
       "    </tr>\n",
       "    <tr>\n",
       "      <th>2</th>\n",
       "      <td>P2941</td>\n",
       "      <td>Sneakers</td>\n",
       "      <td>Footwear</td>\n",
       "      <td>1756.76</td>\n",
       "      <td>5</td>\n",
       "      <td>8</td>\n",
       "      <td>468</td>\n",
       "      <td>S118</td>\n",
       "      <td>25-34</td>\n",
       "      <td>Tokyo, Japan</td>\n",
       "      <td>Non-Binary</td>\n",
       "      <td>16.43</td>\n",
       "      <td>Standard</td>\n",
       "      <td>4.93</td>\n",
       "      <td>No</td>\n",
       "      <td>40</td>\n",
       "    </tr>\n",
       "    <tr>\n",
       "      <th>3</th>\n",
       "      <td>P8545</td>\n",
       "      <td>Cookbooks</td>\n",
       "      <td>Books</td>\n",
       "      <td>295.24</td>\n",
       "      <td>10</td>\n",
       "      <td>15</td>\n",
       "      <td>25</td>\n",
       "      <td>S104</td>\n",
       "      <td>18-24</td>\n",
       "      <td>Paris, France</td>\n",
       "      <td>Female</td>\n",
       "      <td>27.49</td>\n",
       "      <td>Standard</td>\n",
       "      <td>1.31</td>\n",
       "      <td>No</td>\n",
       "      <td>93</td>\n",
       "    </tr>\n",
       "    <tr>\n",
       "      <th>4</th>\n",
       "      <td>P4594</td>\n",
       "      <td>Camera</td>\n",
       "      <td>Electronics</td>\n",
       "      <td>832.00</td>\n",
       "      <td>10</td>\n",
       "      <td>12</td>\n",
       "      <td>340</td>\n",
       "      <td>S331</td>\n",
       "      <td>55+</td>\n",
       "      <td>Tokyo, Japan</td>\n",
       "      <td>Male</td>\n",
       "      <td>45.93</td>\n",
       "      <td>Overnight</td>\n",
       "      <td>4.37</td>\n",
       "      <td>No</td>\n",
       "      <td>56</td>\n",
       "    </tr>\n",
       "    <tr>\n",
       "      <th>...</th>\n",
       "      <td>...</td>\n",
       "      <td>...</td>\n",
       "      <td>...</td>\n",
       "      <td>...</td>\n",
       "      <td>...</td>\n",
       "      <td>...</td>\n",
       "      <td>...</td>\n",
       "      <td>...</td>\n",
       "      <td>...</td>\n",
       "      <td>...</td>\n",
       "      <td>...</td>\n",
       "      <td>...</td>\n",
       "      <td>...</td>\n",
       "      <td>...</td>\n",
       "      <td>...</td>\n",
       "      <td>...</td>\n",
       "    </tr>\n",
       "    <tr>\n",
       "      <th>999995</th>\n",
       "      <td>P1024</td>\n",
       "      <td>Graphic Novels</td>\n",
       "      <td>Books</td>\n",
       "      <td>1802.12</td>\n",
       "      <td>5</td>\n",
       "      <td>10</td>\n",
       "      <td>340</td>\n",
       "      <td>S865</td>\n",
       "      <td>55+</td>\n",
       "      <td>Sydney, Australia</td>\n",
       "      <td>Non-Binary</td>\n",
       "      <td>6.21</td>\n",
       "      <td>Express</td>\n",
       "      <td>10.87</td>\n",
       "      <td>No</td>\n",
       "      <td>21</td>\n",
       "    </tr>\n",
       "    <tr>\n",
       "      <th>999996</th>\n",
       "      <td>P2259</td>\n",
       "      <td>Biographies</td>\n",
       "      <td>Books</td>\n",
       "      <td>1843.11</td>\n",
       "      <td>10</td>\n",
       "      <td>15</td>\n",
       "      <td>189</td>\n",
       "      <td>S176</td>\n",
       "      <td>45-54</td>\n",
       "      <td>Paris, France</td>\n",
       "      <td>Non-Binary</td>\n",
       "      <td>9.02</td>\n",
       "      <td>Overnight</td>\n",
       "      <td>19.19</td>\n",
       "      <td>No</td>\n",
       "      <td>59</td>\n",
       "    </tr>\n",
       "    <tr>\n",
       "      <th>999997</th>\n",
       "      <td>P1110</td>\n",
       "      <td>Formal Shoes</td>\n",
       "      <td>Footwear</td>\n",
       "      <td>1186.56</td>\n",
       "      <td>25</td>\n",
       "      <td>15</td>\n",
       "      <td>482</td>\n",
       "      <td>S530</td>\n",
       "      <td>18-24</td>\n",
       "      <td>Berlin, Germany</td>\n",
       "      <td>Male</td>\n",
       "      <td>42.85</td>\n",
       "      <td>Express</td>\n",
       "      <td>8.77</td>\n",
       "      <td>Yes</td>\n",
       "      <td>12</td>\n",
       "    </tr>\n",
       "    <tr>\n",
       "      <th>999998</th>\n",
       "      <td>P5954</td>\n",
       "      <td>Jeans</td>\n",
       "      <td>Apparel</td>\n",
       "      <td>803.06</td>\n",
       "      <td>25</td>\n",
       "      <td>10</td>\n",
       "      <td>145</td>\n",
       "      <td>S818</td>\n",
       "      <td>55+</td>\n",
       "      <td>Dubai, UAE</td>\n",
       "      <td>Non-Binary</td>\n",
       "      <td>22.54</td>\n",
       "      <td>Standard</td>\n",
       "      <td>11.27</td>\n",
       "      <td>Yes</td>\n",
       "      <td>44</td>\n",
       "    </tr>\n",
       "    <tr>\n",
       "      <th>999999</th>\n",
       "      <td>P5027</td>\n",
       "      <td>Flats</td>\n",
       "      <td>Footwear</td>\n",
       "      <td>1846.41</td>\n",
       "      <td>10</td>\n",
       "      <td>8</td>\n",
       "      <td>322</td>\n",
       "      <td>S215</td>\n",
       "      <td>35-44</td>\n",
       "      <td>Houston, USA</td>\n",
       "      <td>Male</td>\n",
       "      <td>28.58</td>\n",
       "      <td>Express</td>\n",
       "      <td>16.20</td>\n",
       "      <td>No</td>\n",
       "      <td>55</td>\n",
       "    </tr>\n",
       "  </tbody>\n",
       "</table>\n",
       "<p>1000000 rows × 16 columns</p>\n",
       "</div>"
      ],
      "text/plain": [
       "       Product ID    Product Name     Category    Price  Discount  Tax Rate  \\\n",
       "0           P6879          Jacket      Apparel    53.85         5        15   \n",
       "1           P5132          Camera  Electronics   761.26        10        15   \n",
       "2           P2941        Sneakers     Footwear  1756.76         5         8   \n",
       "3           P8545       Cookbooks        Books   295.24        10        15   \n",
       "4           P4594          Camera  Electronics   832.00        10        12   \n",
       "...           ...             ...          ...      ...       ...       ...   \n",
       "999995      P1024  Graphic Novels        Books  1802.12         5        10   \n",
       "999996      P2259     Biographies        Books  1843.11        10        15   \n",
       "999997      P1110    Formal Shoes     Footwear  1186.56        25        15   \n",
       "999998      P5954           Jeans      Apparel   803.06        25        10   \n",
       "999999      P5027           Flats     Footwear  1846.41        10         8   \n",
       "\n",
       "        Stock Level Supplier ID    Age       City,Country      Gender  \\\n",
       "0               150        S535  35-44      New York, USA        Male   \n",
       "1               224        S583  25-34         London, UK      Female   \n",
       "2               468        S118  25-34       Tokyo, Japan  Non-Binary   \n",
       "3                25        S104  18-24      Paris, France      Female   \n",
       "4               340        S331    55+       Tokyo, Japan        Male   \n",
       "...             ...         ...    ...                ...         ...   \n",
       "999995          340        S865    55+  Sydney, Australia  Non-Binary   \n",
       "999996          189        S176  45-54      Paris, France  Non-Binary   \n",
       "999997          482        S530  18-24    Berlin, Germany        Male   \n",
       "999998          145        S818    55+         Dubai, UAE  Non-Binary   \n",
       "999999          322        S215  35-44       Houston, USA        Male   \n",
       "\n",
       "        Shipping Cost Shipping Method  Return Rate Seasonality  \\\n",
       "0               23.32        Standard         4.49         Yes   \n",
       "1               20.88       Overnight        16.11          No   \n",
       "2               16.43        Standard         4.93          No   \n",
       "3               27.49        Standard         1.31          No   \n",
       "4               45.93       Overnight         4.37          No   \n",
       "...               ...             ...          ...         ...   \n",
       "999995           6.21         Express        10.87          No   \n",
       "999996           9.02       Overnight        19.19          No   \n",
       "999997          42.85         Express         8.77         Yes   \n",
       "999998          22.54        Standard        11.27         Yes   \n",
       "999999          28.58         Express        16.20          No   \n",
       "\n",
       "        Popularity Index  \n",
       "0                     56  \n",
       "1                     79  \n",
       "2                     40  \n",
       "3                     93  \n",
       "4                     56  \n",
       "...                  ...  \n",
       "999995                21  \n",
       "999996                59  \n",
       "999997                12  \n",
       "999998                44  \n",
       "999999                55  \n",
       "\n",
       "[1000000 rows x 16 columns]"
      ]
     },
     "execution_count": 15,
     "metadata": {},
     "output_type": "execute_result"
    }
   ],
   "source": [
    "ecommerce_df.rename(columns={'Customer Age Group':'Age'},inplace=True)\n",
    "ecommerce_df.rename(columns={'Customer Gender':'Gender'},inplace=True)\n",
    "ecommerce_df.rename(columns={'Customer Location':'City,Country'},inplace=True)\n",
    "ecommerce_df"
   ]
  },
  {
   "cell_type": "markdown",
   "metadata": {
    "id": "PErtrTMP6aAy"
   },
   "source": [
    "**Using IQR (Interquartile Range) to Find Outliers**"
   ]
  },
  {
   "cell_type": "code",
   "execution_count": 16,
   "metadata": {
    "colab": {
     "base_uri": "https://localhost:8080/"
    },
    "id": "CGwR3_4j6sj5",
    "outputId": "db920d5f-2186-4eaa-fbf8-44a137fcf2f0"
   },
   "outputs": [
    {
     "name": "stdout",
     "output_type": "stream",
     "text": [
      "          Price  Discount  Tax Rate  Stock Level  Shipping Cost  Return Rate  \\\n",
      "0         53.85         5        15          150          23.32         4.49   \n",
      "1        761.26        10        15          224          20.88        16.11   \n",
      "2       1756.76         5         8          468          16.43         4.93   \n",
      "3        295.24        10        15           25          27.49         1.31   \n",
      "4        832.00        10        12          340          45.93         4.37   \n",
      "...         ...       ...       ...          ...            ...          ...   \n",
      "999995  1802.12         5        10          340           6.21        10.87   \n",
      "999996  1843.11        10        15          189           9.02        19.19   \n",
      "999997  1186.56        25        15          482          42.85         8.77   \n",
      "999998   803.06        25        10          145          22.54        11.27   \n",
      "999999  1846.41        10         8          322          28.58        16.20   \n",
      "\n",
      "        Popularity Index  \n",
      "0                     56  \n",
      "1                     79  \n",
      "2                     40  \n",
      "3                     93  \n",
      "4                     56  \n",
      "...                  ...  \n",
      "999995                21  \n",
      "999996                59  \n",
      "999997                12  \n",
      "999998                44  \n",
      "999999                55  \n",
      "\n",
      "[1000000 rows x 7 columns]\n"
     ]
    }
   ],
   "source": [
    "numeric_columns=ecommerce_df.select_dtypes(include=['number'])\n",
    "print(numeric_columns)"
   ]
  },
  {
   "cell_type": "code",
   "execution_count": 17,
   "metadata": {
    "colab": {
     "base_uri": "https://localhost:8080/"
    },
    "id": "6Zlq_COh6fe9",
    "outputId": "ef9d68fe-5f32-4207-ac0a-3e45284f02ca"
   },
   "outputs": [
    {
     "name": "stdout",
     "output_type": "stream",
     "text": [
      "Rows with outliers:\n",
      "Empty DataFrame\n",
      "Columns: [Product ID, Product Name, Category, Price, Discount, Tax Rate, Stock Level, Supplier ID, Age, City,Country, Gender, Shipping Cost, Shipping Method, Return Rate, Seasonality, Popularity Index]\n",
      "Index: []\n"
     ]
    }
   ],
   "source": [
    "# Calculate IQR for numeric columns\n",
    "Q1 = numeric_columns.quantile(0.25)\n",
    "Q3 = numeric_columns.quantile(0.75)\n",
    "IQR = Q3 - Q1\n",
    "\n",
    "# Define the outlier criteria\n",
    "lower_bound = Q1 - 1.5 * IQR\n",
    "upper_bound = Q3 + 1.5 * IQR\n",
    "\n",
    "# Identify outliers\n",
    "outliers = (numeric_columns < lower_bound) | (numeric_columns > upper_bound)\n",
    "\n",
    "# Get the rows with outliers\n",
    "outlier_rows = ecommerce_df[outliers.any(axis=1)]\n",
    "\n",
    "# Display the outlier rows\n",
    "print(\"Rows with outliers:\")\n",
    "print(outlier_rows)"
   ]
  },
  {
   "cell_type": "markdown",
   "metadata": {
    "id": "O3eU-jQX7IkV"
   },
   "source": [
    "**No outliers were found in the dataset.**"
   ]
  },
  {
   "cell_type": "code",
   "execution_count": 52,
   "metadata": {
    "colab": {
     "base_uri": "https://localhost:8080/"
    },
    "id": "7p7nCvmG7kU3",
    "outputId": "1ea6989f-a315-4214-ed3e-4c17adf91743"
   },
   "outputs": [
    {
     "name": "stdout",
     "output_type": "stream",
     "text": [
      "\n",
      "Cleaned dataset saved as 'cleaned_dataset.csv'.\n"
     ]
    }
   ],
   "source": [
    "# Save the cleaned dataset (if duplicates are removed)\n",
    "ecommerce_df_cleaned.to_csv('cleaned_dataset.csv', index=False)\n",
    "print(\"\\nCleaned dataset saved as 'cleaned_dataset.csv'.\")"
   ]
  },
  {
   "cell_type": "markdown",
   "metadata": {
    "id": "OONlYQp6zfBO"
   },
   "source": [
    "**Categorize age column**"
   ]
  },
  {
   "cell_type": "code",
   "execution_count": 19,
   "metadata": {
    "colab": {
     "base_uri": "https://localhost:8080/"
    },
    "id": "uvxLwqMa3XAZ",
    "outputId": "3a9c0c7f-1d52-4a14-8a23-45867b615370"
   },
   "outputs": [
    {
     "name": "stdout",
     "output_type": "stream",
     "text": [
      "Column Names:\n",
      "['Product ID', 'Product Name', 'Category', 'Price', 'Discount', 'Tax Rate', 'Stock Level', 'Supplier ID', 'Age', 'City,Country', 'Gender', 'Shipping Cost', 'Shipping Method', 'Return Rate', 'Seasonality', 'Popularity Index']\n"
     ]
    }
   ],
   "source": [
    "# Display the column names\n",
    "print(\"Column Names:\")\n",
    "print(ecommerce_df.columns.tolist())"
   ]
  },
  {
   "cell_type": "code",
   "execution_count": 20,
   "metadata": {
    "colab": {
     "base_uri": "https://localhost:8080/"
    },
    "id": "TBAPzdFx4CAb",
    "outputId": "9244659f-5eb7-4ea5-d052-c951b4e3aad2"
   },
   "outputs": [
    {
     "name": "stdout",
     "output_type": "stream",
     "text": [
      "Unique values in the 'Age' column:\n",
      "['35-44' '25-34' '18-24' '55+' '45-54']\n"
     ]
    }
   ],
   "source": [
    "# Get unique values in the 'Age' column\n",
    "unique_ages = ecommerce_df['Age'].unique()\n",
    "\n",
    "# Print the unique values\n",
    "print(\"Unique values in the 'Age' column:\")\n",
    "print(unique_ages)"
   ]
  },
  {
   "cell_type": "code",
   "execution_count": 21,
   "metadata": {
    "colab": {
     "base_uri": "https://localhost:8080/"
    },
    "id": "-WSW8ig34Q0H",
    "outputId": "0b778d27-7908-453a-af5d-51c7012a1076"
   },
   "outputs": [
    {
     "name": "stdout",
     "output_type": "stream",
     "text": [
      "     Age         Age Category\n",
      "0  35-44    Mid-Career Adults\n",
      "1  25-34  Early Career Adults\n",
      "2  25-34  Early Career Adults\n",
      "3  18-24   Youth/Young Adults\n",
      "4    55+        Senior Adults\n"
     ]
    }
   ],
   "source": [
    "# Define a function to categorize age ranges\n",
    "def categorize_age(age_range):\n",
    "    if age_range == '18-24':\n",
    "        return 'Youth/Young Adults'\n",
    "    elif age_range == '25-34':\n",
    "        return 'Early Career Adults'\n",
    "    elif age_range == '35-44':\n",
    "        return 'Mid-Career Adults'\n",
    "    elif age_range == '45-54':\n",
    "        return 'Late Career Adults'\n",
    "    elif age_range == '55+':\n",
    "        return 'Senior Adults'\n",
    "    else:\n",
    "        return 'Unknown'\n",
    "\n",
    "# Apply the categorization to the 'Age' column\n",
    "ecommerce_df['Age Category'] = ecommerce_df['Age'].apply(categorize_age)\n",
    "\n",
    "# Display the first few rows to verify\n",
    "print(ecommerce_df[['Age', 'Age Category']].head())"
   ]
  },
  {
   "cell_type": "code",
   "execution_count": 22,
   "metadata": {
    "colab": {
     "base_uri": "https://localhost:8080/"
    },
    "id": "AqAdHR6j75tN",
    "outputId": "b08fd517-d839-4981-9fac-47fd2e3d0ab5"
   },
   "outputs": [
    {
     "name": "stdout",
     "output_type": "stream",
     "text": [
      "Percentage of each age category:\n",
      "Age\n",
      "18-24    20.0345\n",
      "25-34    20.0313\n",
      "35-44    20.0076\n",
      "45-54    19.9937\n",
      "55+      19.9329\n",
      "Name: proportion, dtype: float64\n"
     ]
    }
   ],
   "source": [
    "# Calculate the percentage of each unique value in the 'Age' column\n",
    "age_percentage = ecommerce_df['Age'].value_counts(normalize=True) * 100\n",
    "\n",
    "# Print the percentage for each category\n",
    "print(\"Percentage of each age category:\")\n",
    "print(age_percentage)"
   ]
  },
  {
   "cell_type": "markdown",
   "metadata": {
    "id": "9bVscVsf4mcm"
   },
   "source": [
    "**We add age category column**"
   ]
  },
  {
   "cell_type": "code",
   "execution_count": 38,
   "metadata": {},
   "outputs": [
    {
     "data": {
      "text/html": [
       "<div>\n",
       "<style scoped>\n",
       "    .dataframe tbody tr th:only-of-type {\n",
       "        vertical-align: middle;\n",
       "    }\n",
       "\n",
       "    .dataframe tbody tr th {\n",
       "        vertical-align: top;\n",
       "    }\n",
       "\n",
       "    .dataframe thead th {\n",
       "        text-align: right;\n",
       "    }\n",
       "</style>\n",
       "<table border=\"1\" class=\"dataframe\">\n",
       "  <thead>\n",
       "    <tr style=\"text-align: right;\">\n",
       "      <th></th>\n",
       "      <th>City,Country</th>\n",
       "      <th>Category</th>\n",
       "      <th>count</th>\n",
       "    </tr>\n",
       "  </thead>\n",
       "  <tbody>\n",
       "    <tr>\n",
       "      <th>3</th>\n",
       "      <td>Berlin, Germany</td>\n",
       "      <td>Footwear</td>\n",
       "      <td>13259</td>\n",
       "    </tr>\n",
       "    <tr>\n",
       "      <th>5</th>\n",
       "      <td>Cape Town, South Africa</td>\n",
       "      <td>Apparel</td>\n",
       "      <td>13513</td>\n",
       "    </tr>\n",
       "    <tr>\n",
       "      <th>11</th>\n",
       "      <td>Chicago, USA</td>\n",
       "      <td>Books</td>\n",
       "      <td>13460</td>\n",
       "    </tr>\n",
       "    <tr>\n",
       "      <th>19</th>\n",
       "      <td>Dubai, UAE</td>\n",
       "      <td>Home Appliances</td>\n",
       "      <td>13596</td>\n",
       "    </tr>\n",
       "    <tr>\n",
       "      <th>21</th>\n",
       "      <td>Houston, USA</td>\n",
       "      <td>Books</td>\n",
       "      <td>13582</td>\n",
       "    </tr>\n",
       "    <tr>\n",
       "      <th>27</th>\n",
       "      <td>London, UK</td>\n",
       "      <td>Electronics</td>\n",
       "      <td>13470</td>\n",
       "    </tr>\n",
       "    <tr>\n",
       "      <th>32</th>\n",
       "      <td>Los Angeles, USA</td>\n",
       "      <td>Electronics</td>\n",
       "      <td>13477</td>\n",
       "    </tr>\n",
       "    <tr>\n",
       "      <th>37</th>\n",
       "      <td>Mumbai, India</td>\n",
       "      <td>Electronics</td>\n",
       "      <td>13605</td>\n",
       "    </tr>\n",
       "    <tr>\n",
       "      <th>44</th>\n",
       "      <td>New York, USA</td>\n",
       "      <td>Home Appliances</td>\n",
       "      <td>13397</td>\n",
       "    </tr>\n",
       "    <tr>\n",
       "      <th>48</th>\n",
       "      <td>Paris, France</td>\n",
       "      <td>Footwear</td>\n",
       "      <td>13401</td>\n",
       "    </tr>\n",
       "    <tr>\n",
       "      <th>53</th>\n",
       "      <td>Phoenix, USA</td>\n",
       "      <td>Footwear</td>\n",
       "      <td>13430</td>\n",
       "    </tr>\n",
       "    <tr>\n",
       "      <th>55</th>\n",
       "      <td>Singapore</td>\n",
       "      <td>Apparel</td>\n",
       "      <td>13513</td>\n",
       "    </tr>\n",
       "    <tr>\n",
       "      <th>64</th>\n",
       "      <td>Sydney, Australia</td>\n",
       "      <td>Home Appliances</td>\n",
       "      <td>13419</td>\n",
       "    </tr>\n",
       "    <tr>\n",
       "      <th>66</th>\n",
       "      <td>Tokyo, Japan</td>\n",
       "      <td>Books</td>\n",
       "      <td>13554</td>\n",
       "    </tr>\n",
       "    <tr>\n",
       "      <th>72</th>\n",
       "      <td>Toronto, Canada</td>\n",
       "      <td>Electronics</td>\n",
       "      <td>13440</td>\n",
       "    </tr>\n",
       "  </tbody>\n",
       "</table>\n",
       "</div>"
      ],
      "text/plain": [
       "               City,Country         Category  count\n",
       "3           Berlin, Germany         Footwear  13259\n",
       "5   Cape Town, South Africa          Apparel  13513\n",
       "11             Chicago, USA            Books  13460\n",
       "19               Dubai, UAE  Home Appliances  13596\n",
       "21             Houston, USA            Books  13582\n",
       "27               London, UK      Electronics  13470\n",
       "32         Los Angeles, USA      Electronics  13477\n",
       "37            Mumbai, India      Electronics  13605\n",
       "44            New York, USA  Home Appliances  13397\n",
       "48            Paris, France         Footwear  13401\n",
       "53             Phoenix, USA         Footwear  13430\n",
       "55                Singapore          Apparel  13513\n",
       "64        Sydney, Australia  Home Appliances  13419\n",
       "66             Tokyo, Japan            Books  13554\n",
       "72          Toronto, Canada      Electronics  13440"
      ]
     },
     "execution_count": 38,
     "metadata": {},
     "output_type": "execute_result"
    }
   ],
   "source": [
    "City_trends =Category_City_counts.loc[Category_City_counts.groupby('City,Country')['count'].idxmax()]\n",
    "City_trends"
   ]
  },
  {
   "cell_type": "markdown",
   "metadata": {},
   "source": [
    "**count of City_Category trends**"
   ]
  },
  {
   "cell_type": "code",
   "execution_count": 56,
   "metadata": {},
   "outputs": [
    {
     "data": {
      "text/html": [
       "<div>\n",
       "<style scoped>\n",
       "    .dataframe tbody tr th:only-of-type {\n",
       "        vertical-align: middle;\n",
       "    }\n",
       "\n",
       "    .dataframe tbody tr th {\n",
       "        vertical-align: top;\n",
       "    }\n",
       "\n",
       "    .dataframe thead th {\n",
       "        text-align: right;\n",
       "    }\n",
       "</style>\n",
       "<table border=\"1\" class=\"dataframe\">\n",
       "  <thead>\n",
       "    <tr style=\"text-align: right;\">\n",
       "      <th></th>\n",
       "      <th>Gender</th>\n",
       "      <th>Return Rate</th>\n",
       "    </tr>\n",
       "  </thead>\n",
       "  <tbody>\n",
       "    <tr>\n",
       "      <th>0</th>\n",
       "      <td>Female</td>\n",
       "      <td>10.497306</td>\n",
       "    </tr>\n",
       "    <tr>\n",
       "      <th>1</th>\n",
       "      <td>Male</td>\n",
       "      <td>10.490651</td>\n",
       "    </tr>\n",
       "    <tr>\n",
       "      <th>2</th>\n",
       "      <td>Non-Binary</td>\n",
       "      <td>10.490744</td>\n",
       "    </tr>\n",
       "  </tbody>\n",
       "</table>\n",
       "</div>"
      ],
      "text/plain": [
       "       Gender  Return Rate\n",
       "0      Female    10.497306\n",
       "1        Male    10.490651\n",
       "2  Non-Binary    10.490744"
      ]
     },
     "execution_count": 56,
     "metadata": {},
     "output_type": "execute_result"
    }
   ],
   "source": [
    "gender_return_rate=ecommerce_df.groupby('Gender')['Return Rate'].mean().reset_index()\n",
    "gender_return_rate"
   ]
  },
  {
   "cell_type": "markdown",
   "metadata": {},
   "source": [
    "**Return Rate almost the same**"
   ]
  },
  {
   "cell_type": "code",
   "execution_count": 23,
   "metadata": {
    "colab": {
     "base_uri": "https://localhost:8080/",
     "height": 669
    },
    "id": "tJ2rZGr14jWr",
    "outputId": "e23c4dfc-4739-401d-cadf-5d1d6d35e321"
   },
   "outputs": [
    {
     "data": {
      "text/html": [
       "<div>\n",
       "<style scoped>\n",
       "    .dataframe tbody tr th:only-of-type {\n",
       "        vertical-align: middle;\n",
       "    }\n",
       "\n",
       "    .dataframe tbody tr th {\n",
       "        vertical-align: top;\n",
       "    }\n",
       "\n",
       "    .dataframe thead th {\n",
       "        text-align: right;\n",
       "    }\n",
       "</style>\n",
       "<table border=\"1\" class=\"dataframe\">\n",
       "  <thead>\n",
       "    <tr style=\"text-align: right;\">\n",
       "      <th></th>\n",
       "      <th>Product ID</th>\n",
       "      <th>Product Name</th>\n",
       "      <th>Category</th>\n",
       "      <th>Price</th>\n",
       "      <th>Discount</th>\n",
       "      <th>Tax Rate</th>\n",
       "      <th>Stock Level</th>\n",
       "      <th>Supplier ID</th>\n",
       "      <th>Age</th>\n",
       "      <th>City,Country</th>\n",
       "      <th>Gender</th>\n",
       "      <th>Shipping Cost</th>\n",
       "      <th>Shipping Method</th>\n",
       "      <th>Return Rate</th>\n",
       "      <th>Seasonality</th>\n",
       "      <th>Popularity Index</th>\n",
       "      <th>Age Category</th>\n",
       "    </tr>\n",
       "  </thead>\n",
       "  <tbody>\n",
       "    <tr>\n",
       "      <th>0</th>\n",
       "      <td>P6879</td>\n",
       "      <td>Jacket</td>\n",
       "      <td>Apparel</td>\n",
       "      <td>53.85</td>\n",
       "      <td>5</td>\n",
       "      <td>15</td>\n",
       "      <td>150</td>\n",
       "      <td>S535</td>\n",
       "      <td>35-44</td>\n",
       "      <td>New York, USA</td>\n",
       "      <td>Male</td>\n",
       "      <td>23.32</td>\n",
       "      <td>Standard</td>\n",
       "      <td>4.49</td>\n",
       "      <td>Yes</td>\n",
       "      <td>56</td>\n",
       "      <td>Mid-Career Adults</td>\n",
       "    </tr>\n",
       "    <tr>\n",
       "      <th>1</th>\n",
       "      <td>P5132</td>\n",
       "      <td>Camera</td>\n",
       "      <td>Electronics</td>\n",
       "      <td>761.26</td>\n",
       "      <td>10</td>\n",
       "      <td>15</td>\n",
       "      <td>224</td>\n",
       "      <td>S583</td>\n",
       "      <td>25-34</td>\n",
       "      <td>London, UK</td>\n",
       "      <td>Female</td>\n",
       "      <td>20.88</td>\n",
       "      <td>Overnight</td>\n",
       "      <td>16.11</td>\n",
       "      <td>No</td>\n",
       "      <td>79</td>\n",
       "      <td>Early Career Adults</td>\n",
       "    </tr>\n",
       "    <tr>\n",
       "      <th>2</th>\n",
       "      <td>P2941</td>\n",
       "      <td>Sneakers</td>\n",
       "      <td>Footwear</td>\n",
       "      <td>1756.76</td>\n",
       "      <td>5</td>\n",
       "      <td>8</td>\n",
       "      <td>468</td>\n",
       "      <td>S118</td>\n",
       "      <td>25-34</td>\n",
       "      <td>Tokyo, Japan</td>\n",
       "      <td>Non-Binary</td>\n",
       "      <td>16.43</td>\n",
       "      <td>Standard</td>\n",
       "      <td>4.93</td>\n",
       "      <td>No</td>\n",
       "      <td>40</td>\n",
       "      <td>Early Career Adults</td>\n",
       "    </tr>\n",
       "    <tr>\n",
       "      <th>3</th>\n",
       "      <td>P8545</td>\n",
       "      <td>Cookbooks</td>\n",
       "      <td>Books</td>\n",
       "      <td>295.24</td>\n",
       "      <td>10</td>\n",
       "      <td>15</td>\n",
       "      <td>25</td>\n",
       "      <td>S104</td>\n",
       "      <td>18-24</td>\n",
       "      <td>Paris, France</td>\n",
       "      <td>Female</td>\n",
       "      <td>27.49</td>\n",
       "      <td>Standard</td>\n",
       "      <td>1.31</td>\n",
       "      <td>No</td>\n",
       "      <td>93</td>\n",
       "      <td>Youth/Young Adults</td>\n",
       "    </tr>\n",
       "    <tr>\n",
       "      <th>4</th>\n",
       "      <td>P4594</td>\n",
       "      <td>Camera</td>\n",
       "      <td>Electronics</td>\n",
       "      <td>832.00</td>\n",
       "      <td>10</td>\n",
       "      <td>12</td>\n",
       "      <td>340</td>\n",
       "      <td>S331</td>\n",
       "      <td>55+</td>\n",
       "      <td>Tokyo, Japan</td>\n",
       "      <td>Male</td>\n",
       "      <td>45.93</td>\n",
       "      <td>Overnight</td>\n",
       "      <td>4.37</td>\n",
       "      <td>No</td>\n",
       "      <td>56</td>\n",
       "      <td>Senior Adults</td>\n",
       "    </tr>\n",
       "    <tr>\n",
       "      <th>...</th>\n",
       "      <td>...</td>\n",
       "      <td>...</td>\n",
       "      <td>...</td>\n",
       "      <td>...</td>\n",
       "      <td>...</td>\n",
       "      <td>...</td>\n",
       "      <td>...</td>\n",
       "      <td>...</td>\n",
       "      <td>...</td>\n",
       "      <td>...</td>\n",
       "      <td>...</td>\n",
       "      <td>...</td>\n",
       "      <td>...</td>\n",
       "      <td>...</td>\n",
       "      <td>...</td>\n",
       "      <td>...</td>\n",
       "      <td>...</td>\n",
       "    </tr>\n",
       "    <tr>\n",
       "      <th>999995</th>\n",
       "      <td>P1024</td>\n",
       "      <td>Graphic Novels</td>\n",
       "      <td>Books</td>\n",
       "      <td>1802.12</td>\n",
       "      <td>5</td>\n",
       "      <td>10</td>\n",
       "      <td>340</td>\n",
       "      <td>S865</td>\n",
       "      <td>55+</td>\n",
       "      <td>Sydney, Australia</td>\n",
       "      <td>Non-Binary</td>\n",
       "      <td>6.21</td>\n",
       "      <td>Express</td>\n",
       "      <td>10.87</td>\n",
       "      <td>No</td>\n",
       "      <td>21</td>\n",
       "      <td>Senior Adults</td>\n",
       "    </tr>\n",
       "    <tr>\n",
       "      <th>999996</th>\n",
       "      <td>P2259</td>\n",
       "      <td>Biographies</td>\n",
       "      <td>Books</td>\n",
       "      <td>1843.11</td>\n",
       "      <td>10</td>\n",
       "      <td>15</td>\n",
       "      <td>189</td>\n",
       "      <td>S176</td>\n",
       "      <td>45-54</td>\n",
       "      <td>Paris, France</td>\n",
       "      <td>Non-Binary</td>\n",
       "      <td>9.02</td>\n",
       "      <td>Overnight</td>\n",
       "      <td>19.19</td>\n",
       "      <td>No</td>\n",
       "      <td>59</td>\n",
       "      <td>Late Career Adults</td>\n",
       "    </tr>\n",
       "    <tr>\n",
       "      <th>999997</th>\n",
       "      <td>P1110</td>\n",
       "      <td>Formal Shoes</td>\n",
       "      <td>Footwear</td>\n",
       "      <td>1186.56</td>\n",
       "      <td>25</td>\n",
       "      <td>15</td>\n",
       "      <td>482</td>\n",
       "      <td>S530</td>\n",
       "      <td>18-24</td>\n",
       "      <td>Berlin, Germany</td>\n",
       "      <td>Male</td>\n",
       "      <td>42.85</td>\n",
       "      <td>Express</td>\n",
       "      <td>8.77</td>\n",
       "      <td>Yes</td>\n",
       "      <td>12</td>\n",
       "      <td>Youth/Young Adults</td>\n",
       "    </tr>\n",
       "    <tr>\n",
       "      <th>999998</th>\n",
       "      <td>P5954</td>\n",
       "      <td>Jeans</td>\n",
       "      <td>Apparel</td>\n",
       "      <td>803.06</td>\n",
       "      <td>25</td>\n",
       "      <td>10</td>\n",
       "      <td>145</td>\n",
       "      <td>S818</td>\n",
       "      <td>55+</td>\n",
       "      <td>Dubai, UAE</td>\n",
       "      <td>Non-Binary</td>\n",
       "      <td>22.54</td>\n",
       "      <td>Standard</td>\n",
       "      <td>11.27</td>\n",
       "      <td>Yes</td>\n",
       "      <td>44</td>\n",
       "      <td>Senior Adults</td>\n",
       "    </tr>\n",
       "    <tr>\n",
       "      <th>999999</th>\n",
       "      <td>P5027</td>\n",
       "      <td>Flats</td>\n",
       "      <td>Footwear</td>\n",
       "      <td>1846.41</td>\n",
       "      <td>10</td>\n",
       "      <td>8</td>\n",
       "      <td>322</td>\n",
       "      <td>S215</td>\n",
       "      <td>35-44</td>\n",
       "      <td>Houston, USA</td>\n",
       "      <td>Male</td>\n",
       "      <td>28.58</td>\n",
       "      <td>Express</td>\n",
       "      <td>16.20</td>\n",
       "      <td>No</td>\n",
       "      <td>55</td>\n",
       "      <td>Mid-Career Adults</td>\n",
       "    </tr>\n",
       "  </tbody>\n",
       "</table>\n",
       "<p>1000000 rows × 17 columns</p>\n",
       "</div>"
      ],
      "text/plain": [
       "       Product ID    Product Name     Category    Price  Discount  Tax Rate  \\\n",
       "0           P6879          Jacket      Apparel    53.85         5        15   \n",
       "1           P5132          Camera  Electronics   761.26        10        15   \n",
       "2           P2941        Sneakers     Footwear  1756.76         5         8   \n",
       "3           P8545       Cookbooks        Books   295.24        10        15   \n",
       "4           P4594          Camera  Electronics   832.00        10        12   \n",
       "...           ...             ...          ...      ...       ...       ...   \n",
       "999995      P1024  Graphic Novels        Books  1802.12         5        10   \n",
       "999996      P2259     Biographies        Books  1843.11        10        15   \n",
       "999997      P1110    Formal Shoes     Footwear  1186.56        25        15   \n",
       "999998      P5954           Jeans      Apparel   803.06        25        10   \n",
       "999999      P5027           Flats     Footwear  1846.41        10         8   \n",
       "\n",
       "        Stock Level Supplier ID    Age       City,Country      Gender  \\\n",
       "0               150        S535  35-44      New York, USA        Male   \n",
       "1               224        S583  25-34         London, UK      Female   \n",
       "2               468        S118  25-34       Tokyo, Japan  Non-Binary   \n",
       "3                25        S104  18-24      Paris, France      Female   \n",
       "4               340        S331    55+       Tokyo, Japan        Male   \n",
       "...             ...         ...    ...                ...         ...   \n",
       "999995          340        S865    55+  Sydney, Australia  Non-Binary   \n",
       "999996          189        S176  45-54      Paris, France  Non-Binary   \n",
       "999997          482        S530  18-24    Berlin, Germany        Male   \n",
       "999998          145        S818    55+         Dubai, UAE  Non-Binary   \n",
       "999999          322        S215  35-44       Houston, USA        Male   \n",
       "\n",
       "        Shipping Cost Shipping Method  Return Rate Seasonality  \\\n",
       "0               23.32        Standard         4.49         Yes   \n",
       "1               20.88       Overnight        16.11          No   \n",
       "2               16.43        Standard         4.93          No   \n",
       "3               27.49        Standard         1.31          No   \n",
       "4               45.93       Overnight         4.37          No   \n",
       "...               ...             ...          ...         ...   \n",
       "999995           6.21         Express        10.87          No   \n",
       "999996           9.02       Overnight        19.19          No   \n",
       "999997          42.85         Express         8.77         Yes   \n",
       "999998          22.54        Standard        11.27         Yes   \n",
       "999999          28.58         Express        16.20          No   \n",
       "\n",
       "        Popularity Index         Age Category  \n",
       "0                     56    Mid-Career Adults  \n",
       "1                     79  Early Career Adults  \n",
       "2                     40  Early Career Adults  \n",
       "3                     93   Youth/Young Adults  \n",
       "4                     56        Senior Adults  \n",
       "...                  ...                  ...  \n",
       "999995                21        Senior Adults  \n",
       "999996                59   Late Career Adults  \n",
       "999997                12   Youth/Young Adults  \n",
       "999998                44        Senior Adults  \n",
       "999999                55    Mid-Career Adults  \n",
       "\n",
       "[1000000 rows x 17 columns]"
      ]
     },
     "execution_count": 23,
     "metadata": {},
     "output_type": "execute_result"
    }
   ],
   "source": [
    "ecommerce_df"
   ]
  },
  {
   "cell_type": "markdown",
   "metadata": {
    "id": "WGLXcyif8QqD"
   },
   "source": [
    "**Visualization**"
   ]
  },
  {
   "cell_type": "markdown",
   "metadata": {
    "id": "ZZQz_oNwVrIS"
   },
   "source": [
    "**Visualize City Trends**"
   ]
  },
  {
   "cell_type": "code",
   "execution_count": 53,
   "metadata": {
    "scrolled": true
   },
   "outputs": [
    {
     "data": {
      "text/plain": [
       "<function matplotlib.pyplot.show(close=None, block=None)>"
      ]
     },
     "execution_count": 53,
     "metadata": {},
     "output_type": "execute_result"
    },
    {
     "data": {
      "image/png": "[encoded data removed]",
      "text/plain": [
       "<Figure size 1400x700 with 1 Axes>"
      ]
     },
     "metadata": {},
     "output_type": "display_data"
    }
   ],
   "source": [
    "plt.figure(figsize=(14,7))\n",
    "sns.barplot(x='City,Country',y='count',data=City_trends , hue='Category', palette='tab10')\n",
    "plt.title('top City-Category Trends by count')\n",
    "plt.xlabel('City')\n",
    "plt.ylabel('count')\n",
    "plt.xticks(rotation=45,  ha='right')\n",
    "plt.legend(title='Category',bbox_to_anchor= (1.05,1) , loc='upper left')\n",
    "plt.tight_layout()\n",
    "plt.show"
   ]
  },
  {
   "cell_type": "markdown",
   "metadata": {},
   "source": [
    "**visualize Age distribution**"
   ]
  },
  {
   "cell_type": "code",
   "execution_count": 48,
   "metadata": {
    "colab": {
     "base_uri": "https://localhost:8080/",
     "height": 472
    },
    "id": "aYWbzQbZ8Tkk",
    "outputId": "bef629a3-30ea-4015-8754-53b6053e4216"
   },
   "outputs": [
    {
     "data": {
      "image/png": "[encoded data removed]",
      "text/plain": [
       "<Figure size 640x480 with 1 Axes>"
      ]
     },
     "metadata": {},
     "output_type": "display_data"
    }
   ],
   "source": [
    "# Calculate the percentage of each age category\n",
    "age_percentage = ecommerce_df['Age'].value_counts(normalize=True) * 100\n",
    "\n",
    "# Bar plot\n",
    "sns.barplot(x=age_percentage.index, y=age_percentage.values)\n",
    "plt.title(\"Age Distribution\")\n",
    "plt.xlabel(\"Age Category\")\n",
    "plt.ylabel(\"Percentage (%)\")\n",
    "plt.show()"
   ]
  },
  {
   "cell_type": "markdown",
   "metadata": {
    "id": "vcsXPgo1WLtg"
   },
   "source": [
    "A bar chart to show the percentage of each age category."
   ]
  },
  {
   "cell_type": "markdown",
   "metadata": {
    "id": "mW-TDrymX3zF"
   },
   "source": [
    "**Pie Chart for Gender Proportion**"
   ]
  },
  {
   "cell_type": "code",
   "execution_count": 54,
   "metadata": {},
   "outputs": [
    {
     "data": {
      "text/plain": [
       "Gender\n",
       "Male          333791\n",
       "Non-Binary    333541\n",
       "Female        332668\n",
       "Name: count, dtype: int64"
      ]
     },
     "execution_count": 54,
     "metadata": {},
     "output_type": "execute_result"
    }
   ],
   "source": [
    "Gender_counts=ecommerce_df['Gender'].value_counts()\n",
    "Gender_counts"
   ]
  },
  {
   "cell_type": "code",
   "execution_count": 25,
   "metadata": {
    "colab": {
     "base_uri": "https://localhost:8080/",
     "height": 675
    },
    "id": "5gJgDfB7X5Ja",
    "outputId": "6bc6b571-1391-4e1f-a5b6-a8b9464ae41f"
   },
   "outputs": [
    {
     "data": {
      "image/png": "[encoded data removed]",
      "text/plain": [
       "<Figure size 800x800 with 1 Axes>"
      ]
     },
     "metadata": {},
     "output_type": "display_data"
    }
   ],
   "source": [
    "# Pie chart for Gender Distribution\n",
    "gender_counts = ecommerce_df['Gender'].value_counts()\n",
    "\n",
    "plt.figure(figsize=(8, 8))\n",
    "plt.pie(gender_counts, labels=gender_counts.index, autopct='%1.1f%%', startangle=140, colors=sns.color_palette(\"pastel\"))\n",
    "plt.title(\"Gender Proportion\")\n",
    "plt.show()"
   ]
  },
  {
   "cell_type": "markdown",
   "metadata": {
    "id": "6R5-J2C8WNea"
   },
   "source": [
    "**Visualize Price Distribution**"
   ]
  },
  {
   "cell_type": "markdown",
   "metadata": {
    "id": "OMtr6aNjWQz0"
   },
   "source": [
    "A histogram to display the distribution of product prices."
   ]
  },
  {
   "cell_type": "code",
   "execution_count": 26,
   "metadata": {
    "colab": {
     "base_uri": "https://localhost:8080/",
     "height": 487
    },
    "id": "R-nWUFmIWS6N",
    "outputId": "ddedde8c-eaf6-4d71-dd4c-bccfa0f33e29"
   },
   "outputs": [
    {
     "data": {
      "image/png": "[encoded data removed]",
      "text/plain": [
       "<Figure size 800x500 with 1 Axes>"
      ]
     },
     "metadata": {},
     "output_type": "display_data"
    }
   ],
   "source": [
    "# Histogram for Price\n",
    "plt.figure(figsize=(8, 5))\n",
    "sns.histplot(ecommerce_df['Price'], kde=True, bins=20, color='blue')\n",
    "plt.title(\"Price Distribution\")\n",
    "plt.xlabel(\"Price\")\n",
    "plt.ylabel(\"Frequency\")\n",
    "plt.show()"
   ]
  },
  {
   "cell_type": "markdown",
   "metadata": {
    "id": "X2lmt5zKWfqS"
   },
   "source": [
    "**Visualize Category Popularity**"
   ]
  },
  {
   "cell_type": "markdown",
   "metadata": {
    "id": "pIg95-QoWg8E"
   },
   "source": [
    "A count plot to show the number of products in each category."
   ]
  },
  {
   "cell_type": "code",
   "execution_count": 27,
   "metadata": {
    "colab": {
     "base_uri": "https://localhost:8080/",
     "height": 671
    },
    "id": "ecQjTqqzWio_",
    "outputId": "1ad3805e-6206-4c74-f55d-86a679180ce1"
   },
   "outputs": [
    {
     "name": "stderr",
     "output_type": "stream",
     "text": [
      "C:\\Users\\drhag\\AppData\\Local\\Temp\\ipykernel_22300\\1546321637.py:3: FutureWarning: \n",
      "\n",
      "Passing `palette` without assigning `hue` is deprecated and will be removed in v0.14.0. Assign the `y` variable to `hue` and set `legend=False` for the same effect.\n",
      "\n",
      "  sns.countplot(y='Category', data=ecommerce_df, order=ecommerce_df['Category'].value_counts().index, palette='viridis')\n"
     ]
    },
    {
     "data": {
      "image/png": "[encoded data removed]",
      "text/plain": [
       "<Figure size 1000x600 with 1 Axes>"
      ]
     },
     "metadata": {},
     "output_type": "display_data"
    }
   ],
   "source": [
    "# Count plot for Product Categories\n",
    "plt.figure(figsize=(10, 6))\n",
    "sns.countplot(y='Category', data=ecommerce_df, order=ecommerce_df['Category'].value_counts().index, palette='viridis')\n",
    "plt.title(\"Number of Products by Category\")\n",
    "plt.xlabel(\"Count\")\n",
    "plt.ylabel(\"Category\")\n",
    "plt.show()"
   ]
  },
  {
   "cell_type": "markdown",
   "metadata": {
    "id": "9qIOUo00W4a_"
   },
   "source": [
    "**Visualize Stock Level**"
   ]
  },
  {
   "cell_type": "markdown",
   "metadata": {
    "id": "hG8WZ9jIW5rw"
   },
   "source": [
    "A box plot to detect outliers in stock levels."
   ]
  },
  {
   "cell_type": "code",
   "execution_count": 28,
   "metadata": {
    "colab": {
     "base_uri": "https://localhost:8080/",
     "height": 473
    },
    "id": "vz2CvYnsW7eo",
    "outputId": "2663e29e-477c-474f-dcf2-12b6e787f4e6"
   },
   "outputs": [
    {
     "data": {
      "image/png": "[encoded data removed]",
      "text/plain": [
       "<Figure size 800x500 with 1 Axes>"
      ]
     },
     "metadata": {},
     "output_type": "display_data"
    }
   ],
   "source": [
    "# Boxplot for Stock Level\n",
    "plt.figure(figsize=(8, 5))\n",
    "sns.boxplot(ecommerce_df['Stock Level'], color='orange')\n",
    "plt.title(\"Stock Level Distribution\")\n",
    "plt.xlabel(\"Stock Level\")\n",
    "plt.show()"
   ]
  },
  {
   "cell_type": "markdown",
   "metadata": {
    "id": "ytA_m1_taCL8"
   },
   "source": [
    "**Visualize Shipping Method Distribution**"
   ]
  },
  {
   "cell_type": "markdown",
   "metadata": {
    "id": "Zj6o2gTaXeBt"
   },
   "source": [
    "A pie chart for the proportion of shipping methods used."
   ]
  },
  {
   "cell_type": "code",
   "execution_count": 29,
   "metadata": {
    "colab": {
     "base_uri": "https://localhost:8080/",
     "height": 675
    },
    "id": "XZsojLYnXeY4",
    "outputId": "01eee888-ab56-44b8-d59d-c56929f249b7"
   },
   "outputs": [
    {
     "data": {
      "image/png": "[encoded data removed]",
      "text/plain": [
       "<Figure size 800x800 with 1 Axes>"
      ]
     },
     "metadata": {},
     "output_type": "display_data"
    }
   ],
   "source": [
    "# Pie chart for Shipping Method\n",
    "shipping_counts = ecommerce_df['Shipping Method'].value_counts()\n",
    "plt.figure(figsize=(8, 8))\n",
    "plt.pie(shipping_counts, labels=shipping_counts.index, autopct='%1.1f%%', startangle=140, colors=sns.color_palette(\"pastel\"))\n",
    "plt.title(\"Shipping Method Distribution\")\n",
    "plt.show()"
   ]
  },
  {
   "cell_type": "markdown",
   "metadata": {
    "id": "1oAH4_d9YZyJ"
   },
   "source": [
    "**Relationships**"
   ]
  },
  {
   "cell_type": "markdown",
   "metadata": {
    "id": "FxscPeTWYdzS"
   },
   "source": [
    "Gender vs. Category"
   ]
  },
  {
   "cell_type": "code",
   "execution_count": 31,
   "metadata": {
    "colab": {
     "base_uri": "https://localhost:8080/",
     "height": 645
    },
    "id": "MMpeMPLnYZT6",
    "outputId": "8831a3be-76e2-4ef7-d189-2e827733bd88"
   },
   "outputs": [
    {
     "data": {
      "image/png": "[encoded data removed]",
      "text/plain": [
       "<Figure size 1200x600 with 1 Axes>"
      ]
     },
     "metadata": {},
     "output_type": "display_data"
    }
   ],
   "source": [
    "# Count plot showing Gender distribution across Product Categories\n",
    "plt.figure(figsize=(12, 6))\n",
    "sns.countplot(x='Category', hue='Gender', data=ecommerce_df, palette='coolwarm')\n",
    "plt.title(\"Gender Distribution Across Categories\")\n",
    "plt.xlabel(\"Category\")\n",
    "plt.ylabel(\"Count\")\n",
    "plt.xticks(rotation=45)\n",
    "plt.legend(title=\"Gender\")\n",
    "plt.show()"
   ]
  },
  {
   "cell_type": "markdown",
   "metadata": {
    "id": "lp6dhyTtYx7r"
   },
   "source": [
    "Gender Proportion by Shipping Method"
   ]
  },
  {
   "cell_type": "code",
   "execution_count": 32,
   "metadata": {
    "colab": {
     "base_uri": "https://localhost:8080/",
     "height": 636
    },
    "id": "wdDsRf3eY0lR",
    "outputId": "3facaf5f-f1ef-4bec-926d-ad972d1a3893"
   },
   "outputs": [
    {
     "data": {
      "text/plain": [
       "<Figure size 1000x600 with 0 Axes>"
      ]
     },
     "metadata": {},
     "output_type": "display_data"
    },
    {
     "data": {
      "image/png": "[encoded data removed]",
      "text/plain": [
       "<Figure size 1000x600 with 1 Axes>"
      ]
     },
     "metadata": {},
     "output_type": "display_data"
    }
   ],
   "source": [
    "# Proportion plot for Gender within Shipping Methods\n",
    "plt.figure(figsize=(10, 6))\n",
    "gender_shipping = ecommerce_df.groupby('Shipping Method')['Gender'].value_counts(normalize=True).unstack() * 100\n",
    "gender_shipping.plot(kind='bar', stacked=True, figsize=(10, 6), colormap=\"viridis\")\n",
    "plt.title(\"Gender Proportion by Shipping Method\")\n",
    "plt.ylabel(\"Percentage (%)\")\n",
    "plt.xlabel(\"Shipping Method\")\n",
    "plt.legend(title=\"Gender\")\n",
    "plt.show()"
   ]
  },
  {
   "cell_type": "markdown",
   "metadata": {
    "id": "dDTqfUgrZqKH"
   },
   "source": [
    "**Analyze Popularity Index Across Category**"
   ]
  },
  {
   "cell_type": "markdown",
   "metadata": {
    "id": "E3DNycVaZyjg"
   },
   "source": [
    "A bar plot to compare the average popularity index by category."
   ]
  },
  {
   "cell_type": "code",
   "execution_count": 50,
   "metadata": {
    "colab": {
     "base_uri": "https://localhost:8080/",
     "height": 839
    },
    "id": "iqpncxToZzKg",
    "outputId": "6968a13d-c252-4262-adc2-5620b1ad7a98"
   },
   "outputs": [
    {
     "name": "stderr",
     "output_type": "stream",
     "text": [
      "C:\\Users\\drhag\\AppData\\Local\\Temp\\ipykernel_22300\\1767974474.py:3: FutureWarning: \n",
      "\n",
      "The `ci` parameter is deprecated. Use `errorbar=None` for the same effect.\n",
      "\n",
      "  sns.barplot(x='Category', y='Popularity Index', data=ecommerce_df, ci=None, palette='coolwarm', order=ecommerce_df.groupby('Category')['Popularity Index'].mean().sort_values(ascending=False).index)\n",
      "C:\\Users\\drhag\\AppData\\Local\\Temp\\ipykernel_22300\\1767974474.py:3: FutureWarning: \n",
      "\n",
      "Passing `palette` without assigning `hue` is deprecated and will be removed in v0.14.0. Assign the `x` variable to `hue` and set `legend=False` for the same effect.\n",
      "\n",
      "  sns.barplot(x='Category', y='Popularity Index', data=ecommerce_df, ci=None, palette='coolwarm', order=ecommerce_df.groupby('Category')['Popularity Index'].mean().sort_values(ascending=False).index)\n"
     ]
    },
    {
     "data": {
      "image/png": "[encoded data removed]",
      "text/plain": [
       "<Figure size 1200x600 with 1 Axes>"
      ]
     },
     "metadata": {},
     "output_type": "display_data"
    }
   ],
   "source": [
    "# Bar plot for Popularity Index by Category\n",
    "plt.figure(figsize=(12, 6))\n",
    "sns.barplot(x='Category', y='Popularity Index', data=ecommerce_df, ci=None, palette='coolwarm', order=ecommerce_df.groupby('Category')['Popularity Index'].mean().sort_values(ascending=False).index)\n",
    "plt.title(\"Average Popularity Index by Category\")\n",
    "plt.xlabel(\"Category\")\n",
    "plt.ylabel(\"Popularity Index\")\n",
    "plt.xticks(rotation=45)\n",
    "plt.show()"
   ]
  },
  {
   "cell_type": "markdown",
   "metadata": {
    "id": "cOwdkxPraMZa"
   },
   "source": [
    "Shipping Method vs. Category"
   ]
  },
  {
   "cell_type": "code",
   "execution_count": 51,
   "metadata": {
    "colab": {
     "base_uri": "https://localhost:8080/",
     "height": 671
    },
    "id": "TuKgYD14aNxM",
    "outputId": "72dbfb7b-72b7-472c-92ed-d36cb0876467"
   },
   "outputs": [
    {
     "data": {
      "image/png": "[encoded data removed]",
      "text/plain": [
       "<Figure size 1000x600 with 1 Axes>"
      ]
     },
     "metadata": {},
     "output_type": "display_data"
    }
   ],
   "source": [
    "# Stacked bar plot for Shipping Method vs Category\n",
    "shipping_category = ecommerce_df.groupby(['Category', 'Shipping Method']).size().unstack()\n",
    "\n",
    "shipping_category.plot(kind='bar', stacked=True, figsize=(10, 6), colormap=\"viridis\")\n",
    "plt.title(\"Shipping Method Distribution by Category\")\n",
    "plt.xlabel(\"Category\")\n",
    "plt.ylabel(\"Count\")\n",
    "plt.legend(title=\"Shipping Method\")\n",
    "plt.show()"
   ]
  },
  {
   "cell_type": "code",
   "execution_count": null,
   "metadata": {},
   "outputs": [],
   "source": []
  }
 ],
 "metadata": {
  "colab": {
   "provenance": []
  },
  "kernelspec": {
   "display_name": "Python 3 (ipykernel)",
   "language": "python",
   "name": "python3"
  },
  "language_info": {
   "codemirror_mode": {
    "name": "ipython",
    "version": 3
   },
   "file_extension": ".py",
   "mimetype": "text/x-python",
   "name": "python",
   "nbconvert_exporter": "python",
   "pygments_lexer": "ipython3",
   "version": "3.13.1"
  }
 },
 "nbformat": 4,
 "nbformat_minor": 4
}
